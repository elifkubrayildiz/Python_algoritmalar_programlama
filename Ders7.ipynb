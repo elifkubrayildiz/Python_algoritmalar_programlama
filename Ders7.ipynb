{
  "nbformat": 4,
  "nbformat_minor": 0,
  "metadata": {
    "colab": {
      "provenance": []
    },
    "kernelspec": {
      "name": "python3",
      "display_name": "Python 3"
    },
    "language_info": {
      "name": "python"
    }
  },
  "cells": [
    {
      "cell_type": "code",
      "source": [
        "mil = float(input(\"KM'ye çevirilecek Mil bilgisini girin\"))\n",
        "kilometre = mil * 1.60934\n",
        "print(kilometre)"
      ],
      "metadata": {
        "colab": {
          "base_uri": "https://localhost:8080/"
        },
        "id": "Dy1howY-XqCG",
        "outputId": "d97fadaa-e8f2-4761-a7cc-3bb800311aaa"
      },
      "execution_count": 1,
      "outputs": [
        {
          "output_type": "stream",
          "name": "stdout",
          "text": [
            "KM'ye çevirilecek Mil bilgisini girin25\n",
            "40.2335\n"
          ]
        }
      ]
    },
    {
      "cell_type": "code",
      "source": [
        "a = 10\n",
        "if a > 10: # True - False\n",
        "  a = a+1\n",
        "print(a)"
      ],
      "metadata": {
        "colab": {
          "base_uri": "https://localhost:8080/"
        },
        "id": "U03qK5VjaLTu",
        "outputId": "1e475cff-5c66-4ce3-c162-b415c1ead98c"
      },
      "execution_count": 2,
      "outputs": [
        {
          "output_type": "stream",
          "name": "stdout",
          "text": [
            "10\n"
          ]
        }
      ]
    },
    {
      "cell_type": "code",
      "source": [
        "for degisken in range(1, 11):\n",
        "  print(degisken)\n",
        ""
      ],
      "metadata": {
        "colab": {
          "base_uri": "https://localhost:8080/"
        },
        "id": "EFbN-WYbbN6J",
        "outputId": "0af284dd-b88a-45ed-b27e-ee830455c011"
      },
      "execution_count": 5,
      "outputs": [
        {
          "output_type": "stream",
          "name": "stdout",
          "text": [
            "1\n",
            "2\n",
            "3\n",
            "4\n",
            "5\n",
            "6\n",
            "7\n",
            "8\n",
            "9\n",
            "10\n"
          ]
        }
      ]
    },
    {
      "cell_type": "code",
      "source": [
        "sayi = int(input(\"4 Basamaklı sayı bilgisi giriniz\"))\n",
        "\n",
        "binler = sayi // 1000\n",
        "yuzler = (sayi // 100) % 10\n",
        "onlar = (sayi // 10) % 10\n",
        "birler = sayi % 10\n",
        "\n",
        "print(\"Sayının Rakamlar: \", binler, yuzler, onlar, birler)\n",
        "\n",
        "yeni_sayi = yuzler * 1000 + binler * 100 + onlar * 10 + birler\n",
        "\n",
        "print(\"Yeni Sayı: \", yeni_sayi)\n",
        "\n",
        "print(\"Girilen Sayı: \", sayi)"
      ],
      "metadata": {
        "colab": {
          "base_uri": "https://localhost:8080/"
        },
        "id": "ezYFpqqBi8JK",
        "outputId": "60f90c48-5efa-4a1a-a157-ce35118eb8e6"
      },
      "execution_count": 6,
      "outputs": [
        {
          "output_type": "stream",
          "name": "stdout",
          "text": [
            "4 Basamaklı sayı bilgisi giriniz1234\n",
            "Sayının Rakamlar:  1 2 3 4\n",
            "Yeni Sayı:  2134\n",
            "Girilen Sayı:  1234\n"
          ]
        }
      ]
    },
    {
      "cell_type": "code",
      "source": [
        "metin = \"Python\"\n",
        "\n",
        "print(\"Metnin uzunluğu \", len(metin))\n",
        "\n",
        "print(\"Büyük harf dönüşümü \", metin.upper())\n",
        "\n",
        "print(\"Küçük harf dönüşümü \", metin.lower())"
      ],
      "metadata": {
        "colab": {
          "base_uri": "https://localhost:8080/"
        },
        "id": "iuAfekv9jNMJ",
        "outputId": "87ede0b8-bfdd-4108-ba6f-f9ebf67d475a"
      },
      "execution_count": 7,
      "outputs": [
        {
          "output_type": "stream",
          "name": "stdout",
          "text": [
            "Metnin uzunluğu  6\n",
            "Büyük harf dönüşümü  PYTHON\n",
            "Küçük harf dönüşümü  python\n"
          ]
        }
      ]
    },
    {
      "cell_type": "code",
      "source": [
        "a = 4\n",
        "b = 1\n",
        "\n",
        "if a > b:\n",
        "  print(a)\n",
        "else:\n",
        "  print(b)"
      ],
      "metadata": {
        "colab": {
          "base_uri": "https://localhost:8080/"
        },
        "id": "3-bwf-mWjmP-",
        "outputId": "37438363-881c-4f2a-c137-f86daba4758e"
      },
      "execution_count": 8,
      "outputs": [
        {
          "output_type": "stream",
          "name": "stdout",
          "text": [
            "4\n"
          ]
        }
      ]
    },
    {
      "cell_type": "code",
      "source": [
        "a = 5\n",
        "b = 4\n",
        "c = 0\n",
        "\n",
        "if a>0 and b>0:\n",
        "  c = a + b\n",
        "  c = a * a + c\n",
        "print(c)"
      ],
      "metadata": {
        "colab": {
          "base_uri": "https://localhost:8080/"
        },
        "id": "HElzBKJhkZ1h",
        "outputId": "392f8093-7cb7-40d2-9eca-392ea412126d"
      },
      "execution_count": 9,
      "outputs": [
        {
          "output_type": "stream",
          "name": "stdout",
          "text": [
            "34\n"
          ]
        }
      ]
    },
    {
      "cell_type": "code",
      "source": [
        "a = 5\n",
        "b = 4\n",
        "c = 4\n",
        "\n",
        "if a>0 and b<0:\n",
        "  c = a * b + b\n",
        "print(c)"
      ],
      "metadata": {
        "colab": {
          "base_uri": "https://localhost:8080/"
        },
        "id": "IqRvnOAalMPN",
        "outputId": "5349316c-30f3-4e87-fbe9-d8108b4dea61"
      },
      "execution_count": 10,
      "outputs": [
        {
          "output_type": "stream",
          "name": "stdout",
          "text": [
            "4\n"
          ]
        }
      ]
    },
    {
      "cell_type": "code",
      "source": [
        "a = 4\n",
        "b = 1\n",
        "c = 9\n",
        "sonuc = 0\n",
        "\n",
        "if a>0:\n",
        "  sonuc += 1\n",
        "  sonuc = a * c - b\n",
        "  print(sonuc)\n",
        "else:\n",
        "  sonuc -= 1\n",
        "  sonuc = a/c + b\n",
        "  print(sonuc)"
      ],
      "metadata": {
        "colab": {
          "base_uri": "https://localhost:8080/"
        },
        "id": "096nj-4GlZRr",
        "outputId": "57c7912d-91b4-422d-c1f5-51d03dc02a8d"
      },
      "execution_count": 11,
      "outputs": [
        {
          "output_type": "stream",
          "name": "stdout",
          "text": [
            "35\n"
          ]
        }
      ]
    },
    {
      "cell_type": "code",
      "source": [
        "degisken = 0\n",
        "sonuc = 0\n",
        "\n",
        "if degisken == 1:\n",
        "  sonuc += 1\n",
        "  print(sonuc)\n",
        "elif degisken == 2:\n",
        "  sonuc += 2\n",
        "  print(sonuc)\n",
        "elif degisken == 3:\n",
        "  sonuc += 3\n",
        "  print(sonuc)\n",
        "else:\n",
        "  sonuc = 0\n",
        "  print(sonuc)"
      ],
      "metadata": {
        "colab": {
          "base_uri": "https://localhost:8080/"
        },
        "id": "45x1OjjnmGJO",
        "outputId": "0669bac4-4cea-4433-936c-e208f2c5338f"
      },
      "execution_count": 12,
      "outputs": [
        {
          "output_type": "stream",
          "name": "stdout",
          "text": [
            "0\n"
          ]
        }
      ]
    },
    {
      "cell_type": "code",
      "source": [
        "for i in [1, 2, 3, 4, 5, 6, 7, 8, 9, 10]:\n",
        "  print(i)"
      ],
      "metadata": {
        "colab": {
          "base_uri": "https://localhost:8080/"
        },
        "id": "vr8Z00aymVpW",
        "outputId": "b1396802-8eef-4eb1-8f3b-8d9288abaf99"
      },
      "execution_count": 13,
      "outputs": [
        {
          "output_type": "stream",
          "name": "stdout",
          "text": [
            "1\n",
            "2\n",
            "3\n",
            "4\n",
            "5\n",
            "6\n",
            "7\n",
            "8\n",
            "9\n",
            "10\n"
          ]
        }
      ]
    },
    {
      "cell_type": "code",
      "source": [
        "for i in range(1, 11, 3):\n",
        "  print(i)"
      ],
      "metadata": {
        "colab": {
          "base_uri": "https://localhost:8080/"
        },
        "id": "DU3wNZCvmm9d",
        "outputId": "25f66a5c-4261-426b-cc90-4ac164d12657"
      },
      "execution_count": 14,
      "outputs": [
        {
          "output_type": "stream",
          "name": "stdout",
          "text": [
            "1\n",
            "4\n",
            "7\n",
            "10\n"
          ]
        }
      ]
    },
    {
      "cell_type": "code",
      "source": [
        "for i in range(3, 11, 3):\n",
        "  print(i)"
      ],
      "metadata": {
        "colab": {
          "base_uri": "https://localhost:8080/"
        },
        "id": "bLFxenERnWqq",
        "outputId": "321af5e3-3766-4e02-bd00-4cbbea209947"
      },
      "execution_count": 15,
      "outputs": [
        {
          "output_type": "stream",
          "name": "stdout",
          "text": [
            "3\n",
            "6\n",
            "9\n"
          ]
        }
      ]
    },
    {
      "cell_type": "code",
      "source": [
        "for sayi in range(1, 11):\n",
        "  if sayi == 3:\n",
        "    continue   #döngüde atlama sağlar\n",
        "  if sayi == 7:\n",
        "    break      #döngüyü bitirir\n",
        "  print(sayi)"
      ],
      "metadata": {
        "colab": {
          "base_uri": "https://localhost:8080/"
        },
        "id": "8UB9qQeNnZmy",
        "outputId": "395206cd-37bf-4a45-a55e-c9b69e01b5c7"
      },
      "execution_count": 16,
      "outputs": [
        {
          "output_type": "stream",
          "name": "stdout",
          "text": [
            "1\n",
            "2\n",
            "4\n",
            "5\n",
            "6\n"
          ]
        }
      ]
    },
    {
      "cell_type": "code",
      "source": [
        "sayi = 0\n",
        "toplam = 0\n",
        "\n",
        "while sayi < 99:\n",
        "  print(sayi)\n",
        "  toplam += sayi # toplam = toplam + sayi\n",
        "  sayi += 1  # sayi = sayi + 1\n",
        "print(\"Sayilarin Toplami: \", toplam)"
      ],
      "metadata": {
        "colab": {
          "base_uri": "https://localhost:8080/"
        },
        "id": "F-a5FAijoOdm",
        "outputId": "16e9a530-075a-47eb-c56a-6beb3e7c7624"
      },
      "execution_count": 17,
      "outputs": [
        {
          "output_type": "stream",
          "name": "stdout",
          "text": [
            "0\n",
            "1\n",
            "2\n",
            "3\n",
            "4\n",
            "5\n",
            "6\n",
            "7\n",
            "8\n",
            "9\n",
            "10\n",
            "11\n",
            "12\n",
            "13\n",
            "14\n",
            "15\n",
            "16\n",
            "17\n",
            "18\n",
            "19\n",
            "20\n",
            "21\n",
            "22\n",
            "23\n",
            "24\n",
            "25\n",
            "26\n",
            "27\n",
            "28\n",
            "29\n",
            "30\n",
            "31\n",
            "32\n",
            "33\n",
            "34\n",
            "35\n",
            "36\n",
            "37\n",
            "38\n",
            "39\n",
            "40\n",
            "41\n",
            "42\n",
            "43\n",
            "44\n",
            "45\n",
            "46\n",
            "47\n",
            "48\n",
            "49\n",
            "50\n",
            "51\n",
            "52\n",
            "53\n",
            "54\n",
            "55\n",
            "56\n",
            "57\n",
            "58\n",
            "59\n",
            "60\n",
            "61\n",
            "62\n",
            "63\n",
            "64\n",
            "65\n",
            "66\n",
            "67\n",
            "68\n",
            "69\n",
            "70\n",
            "71\n",
            "72\n",
            "73\n",
            "74\n",
            "75\n",
            "76\n",
            "77\n",
            "78\n",
            "79\n",
            "80\n",
            "81\n",
            "82\n",
            "83\n",
            "84\n",
            "85\n",
            "86\n",
            "87\n",
            "88\n",
            "89\n",
            "90\n",
            "91\n",
            "92\n",
            "93\n",
            "94\n",
            "95\n",
            "96\n",
            "97\n",
            "98\n",
            "Sayilarin Toplami:  4851\n"
          ]
        }
      ]
    },
    {
      "cell_type": "code",
      "source": [
        "for ch in range(ord('A'), ord('Z')+1):\n",
        "  print(\"Harf Listesi: \", chr(ch))"
      ],
      "metadata": {
        "colab": {
          "base_uri": "https://localhost:8080/"
        },
        "id": "mvGiOd5Mo4Ld",
        "outputId": "a8ba1d02-b6f1-4db3-fb8e-33f65df83650"
      },
      "execution_count": 18,
      "outputs": [
        {
          "output_type": "stream",
          "name": "stdout",
          "text": [
            "Harf Listesi:  A\n",
            "Harf Listesi:  B\n",
            "Harf Listesi:  C\n",
            "Harf Listesi:  D\n",
            "Harf Listesi:  E\n",
            "Harf Listesi:  F\n",
            "Harf Listesi:  G\n",
            "Harf Listesi:  H\n",
            "Harf Listesi:  I\n",
            "Harf Listesi:  J\n",
            "Harf Listesi:  K\n",
            "Harf Listesi:  L\n",
            "Harf Listesi:  M\n",
            "Harf Listesi:  N\n",
            "Harf Listesi:  O\n",
            "Harf Listesi:  P\n",
            "Harf Listesi:  Q\n",
            "Harf Listesi:  R\n",
            "Harf Listesi:  S\n",
            "Harf Listesi:  T\n",
            "Harf Listesi:  U\n",
            "Harf Listesi:  V\n",
            "Harf Listesi:  W\n",
            "Harf Listesi:  X\n",
            "Harf Listesi:  Y\n",
            "Harf Listesi:  Z\n"
          ]
        }
      ]
    },
    {
      "cell_type": "code",
      "source": [
        "while True:\n",
        "  sayi = float(input(\"Sayıyı Gir\"))\n",
        "  if sayi == 0:\n",
        "    print(\"0 Girdiniz, Başka bir rakam giriniz!!!\")\n",
        "    continue\n",
        "  elif sayi>0:\n",
        "    print(\"Sayı Pozitif\")\n",
        "  else:\n",
        "    print(\"Sayı Negatif\")\n",
        "  break"
      ],
      "metadata": {
        "colab": {
          "base_uri": "https://localhost:8080/"
        },
        "id": "8cZA1v5EwMPH",
        "outputId": "57a841bd-5d94-4d76-cc7b-8e019b0a142d"
      },
      "execution_count": 19,
      "outputs": [
        {
          "output_type": "stream",
          "name": "stdout",
          "text": [
            "Sayıyı Gir22\n",
            "Sayı Pozitif\n"
          ]
        }
      ]
    },
    {
      "cell_type": "code",
      "source": [
        "n = int(input(\"Sayı Gir\"))\n",
        "\n",
        "toplam = 0\n",
        "\n",
        "for sayac in range(1, n+1):\n",
        "  toplam += sayac\n",
        "\n",
        "print(\"Sonuc: \", toplam)"
      ],
      "metadata": {
        "colab": {
          "base_uri": "https://localhost:8080/"
        },
        "id": "MIJdc7sGwSIm",
        "outputId": "3522a9b6-92f1-4cd1-ddd7-93b102d9647c"
      },
      "execution_count": 20,
      "outputs": [
        {
          "output_type": "stream",
          "name": "stdout",
          "text": [
            "Sayı Gir5\n",
            "Sonuc:  15\n"
          ]
        }
      ]
    },
    {
      "cell_type": "code",
      "source": [
        "x = 3\n",
        "c = 0\n",
        "\n",
        "while c<3:\n",
        "  print(\"Ekran Cıktısı: \", c, x)\n",
        "  x = x * x\n",
        "  c = c + 1\n",
        "\n",
        "print(\"Döngü Sonu: \", c, x)"
      ],
      "metadata": {
        "colab": {
          "base_uri": "https://localhost:8080/"
        },
        "id": "Qa6EhrCFxbzU",
        "outputId": "e2fb679c-77dc-4ec0-a08b-73d515d89d46"
      },
      "execution_count": 21,
      "outputs": [
        {
          "output_type": "stream",
          "name": "stdout",
          "text": [
            "Ekran Cıktısı:  0 3\n",
            "Ekran Cıktısı:  1 9\n",
            "Ekran Cıktısı:  2 81\n",
            "Döngü Sonu:  3 6561\n"
          ]
        }
      ]
    },
    {
      "cell_type": "code",
      "source": [
        "n = int(input(\"Sayi Gir\"))\n",
        "\n",
        "if n % 2 == 0:\n",
        "  print(\"Girilen Sayı: \", n, \" çifttir\")\n",
        "else:\n",
        "  print(\"Girilen Sayı: \", n, \" tektir\")"
      ],
      "metadata": {
        "colab": {
          "base_uri": "https://localhost:8080/"
        },
        "id": "6et1PtEIzx1Q",
        "outputId": "1c733d8d-8d56-4628-e31b-c797e7b31915"
      },
      "execution_count": 22,
      "outputs": [
        {
          "output_type": "stream",
          "name": "stdout",
          "text": [
            "Sayi Gir8\n",
            "Girilen Sayı:  8  çifttir\n"
          ]
        }
      ]
    },
    {
      "cell_type": "code",
      "source": [
        "n = float(input(\"Sayı Gir\"))\n",
        "\n",
        "if n < 0:\n",
        "  print(\"Girilen Sayı Negatif ve mutlak degeri\", n * (-1), \" 'dır.\")\n",
        "else:\n",
        "  print(\"Girilen Sayı \", n, \" pozitiftir\")"
      ],
      "metadata": {
        "colab": {
          "base_uri": "https://localhost:8080/"
        },
        "id": "L21Y--HI0Fs4",
        "outputId": "5bc3d59d-2c7b-4677-eea5-3bfccdc5bb08"
      },
      "execution_count": 23,
      "outputs": [
        {
          "output_type": "stream",
          "name": "stdout",
          "text": [
            "Sayı Gir-9\n",
            "Girilen Sayı Negatif ve mutlak degeri 9.0  'dır.\n"
          ]
        }
      ]
    },
    {
      "cell_type": "code",
      "source": [
        "x = int(input(\"İlk sayıyı gir\"))\n",
        "y = int(input(\"ikinci sayıyı gir\"))\n",
        "\n",
        "if x % y == 0:\n",
        "  print(\"X sayısı Y Sayısına Tam Bölünür\")\n",
        "else:\n",
        "  print(\"X sayısı Y Sayısına Tam Bölünmez\")"
      ],
      "metadata": {
        "colab": {
          "base_uri": "https://localhost:8080/"
        },
        "id": "iATpCgKT0f5H",
        "outputId": "59d50423-ba9c-4b10-d5e7-68f955041dcd"
      },
      "execution_count": 24,
      "outputs": [
        {
          "output_type": "stream",
          "name": "stdout",
          "text": [
            "İlk sayıyı gir8\n",
            "ikinci sayıyı gir4\n",
            "X sayısı Y Sayısına Tam Bölünür\n"
          ]
        }
      ]
    },
    {
      "cell_type": "code",
      "source": [
        "yil = int(input(\"Yıl Gir\"))\n",
        "if yil % 4 == 0:\n",
        "  print(\"Girilen Yıl: \", yil, \" artık yıldır\")\n",
        "else:\n",
        "  print(\"Girilen Yıl: \", yil, \" artık yıl değildir\")"
      ],
      "metadata": {
        "colab": {
          "base_uri": "https://localhost:8080/"
        },
        "id": "PjbZ52V-1Zl_",
        "outputId": "937baf5f-2772-491a-839a-042888cffb35"
      },
      "execution_count": 30,
      "outputs": [
        {
          "output_type": "stream",
          "name": "stdout",
          "text": [
            "Yıl Gir2002\n",
            "Girilen Yıl:  2002  artık yıl değildir\n"
          ]
        }
      ]
    },
    {
      "cell_type": "code",
      "source": [
        "sayi = 1\n",
        "\n",
        "while sayi<=100:\n",
        "  karekok = int(sayi ** 0.5)\n",
        "  if karekok ** 2 == sayi:\n",
        "    print(sayi)\n",
        "  sayi += 1 # sayi = sayi + 1"
      ],
      "metadata": {
        "colab": {
          "base_uri": "https://localhost:8080/"
        },
        "id": "FgGFb2-h1klk",
        "outputId": "8d09af69-924a-482a-9086-93fcbf6869c5"
      },
      "execution_count": 31,
      "outputs": [
        {
          "output_type": "stream",
          "name": "stdout",
          "text": [
            "1\n",
            "4\n",
            "9\n",
            "16\n",
            "25\n",
            "36\n",
            "49\n",
            "64\n",
            "81\n",
            "100\n"
          ]
        }
      ]
    },
    {
      "cell_type": "code",
      "source": [],
      "metadata": {
        "id": "B8ofDJLx2Pj1"
      },
      "execution_count": null,
      "outputs": []
    }
  ]
}